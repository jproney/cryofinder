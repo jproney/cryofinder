{
 "cells": [
  {
   "cell_type": "code",
   "execution_count": 1,
   "id": "9d5751bb-d156-46c7-950e-d2aa48e576ff",
   "metadata": {},
   "outputs": [
    {
     "name": "stderr",
     "output_type": "stream",
     "text": [
      "/tmp/ipykernel_1929266/1361592005.py:8: FutureWarning: You are using `torch.load` with `weights_only=False` (the current default value), which uses the default pickle module implicitly. It is possible to construct malicious pickle data which will execute arbitrary code during unpickling (See https://github.com/pytorch/pytorch/blob/main/SECURITY.md#untrusted-models for more details). In a future release, the default value for `weights_only` will be flipped to `True`. This limits the functions that could be executed during unpickling. Arbitrary objects will no longer be allowed to be loaded via this mode unless they are explicitly allowlisted by the user via `torch.serialization.add_safe_globals`. We recommend you start setting `weights_only=True` for any use case where you don't have full control of the loaded file. Please open an issue on GitHub for any issues related to this experimental feature.\n",
      "  dat = torch.load(\"/home/gridsan/jroney/all_projections.pt\")\n",
      "/tmp/ipykernel_1929266/1361592005.py:13: FutureWarning: You are using `torch.load` with `weights_only=False` (the current default value), which uses the default pickle module implicitly. It is possible to construct malicious pickle data which will execute arbitrary code during unpickling (See https://github.com/pytorch/pytorch/blob/main/SECURITY.md#untrusted-models for more details). In a future release, the default value for `weights_only` will be flipped to `True`. This limits the functions that could be executed during unpickling. Arbitrary objects will no longer be allowed to be loaded via this mode unless they are explicitly allowlisted by the user via `torch.serialization.add_safe_globals`. We recommend you start setting `weights_only=True` for any use case where you don't have full control of the loaded file. Please open an issue on GitHub for any issues related to this experimental feature.\n",
      "  dmat = torch.load(\"/home/gridsan/jroney/siren_vols_distance_mat.pt\")\n"
     ]
    }
   ],
   "source": [
    "import torch\n",
    "import numpy as np\n",
    "from cryodrgn.source import ImageSource\n",
    "import os\n",
    "import pickle\n",
    "import torch\n",
    "\n",
    "dat = torch.load(\"/home/gridsan/jroney/all_projections.pt\")\n",
    "ids = dat['ids']\n",
    "images = dat['images']\n",
    "phis = dat['phis']\n",
    "thetas = dat['thetas']\n",
    "dmat = torch.load(\"/home/gridsan/jroney/siren_vols_distance_mat.pt\")"
   ]
  },
  {
   "cell_type": "code",
   "execution_count": 2,
   "id": "79bd618a-420a-4334-9301-390c0a3eee84",
   "metadata": {},
   "outputs": [
    {
     "name": "stdout",
     "output_type": "stream",
     "text": [
      "torch.Size([3770, 192, 128, 128])\n",
      "torch.Size([3770, 192])\n",
      "torch.Size([3770, 192])\n",
      "torch.Size([3770])\n",
      "torch.Size([3770, 3770])\n"
     ]
    }
   ],
   "source": [
    "print(images.shape)\n",
    "print(phis.shape)\n",
    "print(thetas.shape)\n",
    "print(ids.shape)\n",
    "print(dmat.shape)"
   ]
  },
  {
   "cell_type": "code",
   "execution_count": 3,
   "id": "a29f1579-3914-4205-acde-270621c2ba77",
   "metadata": {},
   "outputs": [
    {
     "name": "stdout",
     "output_type": "stream",
     "text": [
      "(INFO) (lattice.py) (02-Apr-25 14:07:17) Using circular lattice with radius=64\n"
     ]
    },
    {
     "name": "stderr",
     "output_type": "stream",
     "text": [
      "/state/partition1/llgrid/pkg/anaconda/python-ML-2025a/lib/python3.10/site-packages/torch/functional.py:534: UserWarning: torch.meshgrid: in an upcoming release, it will be required to pass the indexing argument. (Triggered internally at /opt/conda/conda-bld/pytorch_1729647382455/work/aten/src/ATen/native/TensorShape.cpp:3595.)\n",
      "  return _VF.meshgrid(tensors, **kwargs)  # type: ignore[attr-defined]\n"
     ]
    }
   ],
   "source": [
    "from cryofinder.resnet.data import ContrastiveProjectionDataset\n",
    "\n",
    "\n",
    "dataset = ContrastiveProjectionDataset(images, phis, thetas, ids, dfu=[10000, 15000, 20000, 25000], snr1=[7.5,9,12, 15], pos_angle_threshold=45, obj_distance_matrix=dmat, pos_sim_threshold=0.4)\n",
    "loader = torch.utils.data.DataLoader(dataset, collate_fn=lambda x: ContrastiveProjectionDataset.collate_fn(x, dataset.lat, dataset.mask, dataset.freqs, ctf_corrupt=False, noise=True), shuffle=True, batch_size=128)"
   ]
  },
  {
   "cell_type": "code",
   "execution_count": 4,
   "id": "38a57f00-939d-4625-a612-2f74df0d7862",
   "metadata": {},
   "outputs": [],
   "source": [
    "imgs, ctf, _ids = next(iter(loader))"
   ]
  },
  {
   "cell_type": "code",
   "execution_count": 11,
   "id": "270e63c4-967d-45e9-b0c0-d6f8120e5933",
   "metadata": {},
   "outputs": [
    {
     "data": {
      "image/png": "[encoded data removed]",
      "text/plain": [
       "<Figure size 300x100 with 3 Axes>"
      ]
     },
     "metadata": {},
     "output_type": "display_data"
    },
    {
     "name": "stdout",
     "output_type": "stream",
     "text": [
      "tensor([33793, 27961, 32261])\n"
     ]
    }
   ],
   "source": [
    "import matplotlib.pyplot as plt\n",
    "from cryofinder.analyze_search_outputs import plot_projections\n",
    "\n",
    "# visualize a anchor, positive, negative batch from the dataloader, as well as the EMDB ids of the corresponding volumes\n",
    "i=2\n",
    "plot_projections(imgs[i], nrows=1, norm_brightness=True)\n",
    "plt.show()\n",
    "print(_ids[i])"
   ]
  },
  {
   "cell_type": "code",
   "execution_count": 10,
   "id": "4cf40ecc-8d86-48da-b4bc-a9faa685765a",
   "metadata": {},
   "outputs": [
    {
     "data": {
      "text/plain": [
       "tensor(0.5781)"
      ]
     },
     "execution_count": 10,
     "metadata": {},
     "output_type": "execute_result"
    }
   ],
   "source": [
    "(_ids[:,0] != _ids[:,1]).sum() / 128 # check fraction of anchor-positive pairs that are not from the same volume"
   ]
  },
  {
   "cell_type": "code",
   "execution_count": 13,
   "id": "62638388-79d7-47f3-9fa3-f8086264b3f4",
   "metadata": {},
   "outputs": [
    {
     "data": {
      "text/plain": [
       "['EMD-33791',\n",
       " 'EMD-29516',\n",
       " 'EMD-27959',\n",
       " 'EMD-29518',\n",
       " 'EMD-33788',\n",
       " 'EMD-29517',\n",
       " 'EMD-34674',\n",
       " 'EMD-24947',\n",
       " 'EMD-33789',\n",
       " 'EMD-29520',\n",
       " 'EMD-24949',\n",
       " 'EMD-24946',\n",
       " 'EMD-33793',\n",
       " 'EMD-33792',\n",
       " 'EMD-27961',\n",
       " 'EMD-24948',\n",
       " 'EMD-27958',\n",
       " 'EMD-27953',\n",
       " 'EMD-29515',\n",
       " 'EMD-33795',\n",
       " 'EMD-33798',\n",
       " 'EMD-29519',\n",
       " 'EMD-27955',\n",
       " 'EMD-29521']"
      ]
     },
     "execution_count": 13,
     "metadata": {},
     "output_type": "execute_result"
    }
   ],
   "source": [
    "# print EMDBs of volumes in the same clutser as a given ID\n",
    "\n",
    "emd = 33793\n",
    "idx = (ids == emd).to(torch.float).argmax()\n",
    "clust = [f\"EMD-{i.item()}\" for i in ids[dmat[idx, :] > 0.4]]\n",
    "clust"
   ]
  }
 ],
 "metadata": {
  "kernelspec": {
   "display_name": "Python [conda env:base] *",
   "language": "python",
   "name": "conda-base-py"
  },
  "language_info": {
   "codemirror_mode": {
    "name": "ipython",
    "version": 3
   },
   "file_extension": ".py",
   "mimetype": "text/x-python",
   "name": "python",
   "nbconvert_exporter": "python",
   "pygments_lexer": "ipython3",
   "version": "3.10.14"
  }
 },
 "nbformat": 4,
 "nbformat_minor": 5
}
