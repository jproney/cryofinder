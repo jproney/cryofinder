{
 "cells": [
  {
   "cell_type": "code",
   "execution_count": 1,
   "id": "83912df8-29d9-4191-a023-4e1187991b12",
   "metadata": {},
   "outputs": [],
   "source": [
    "from map_search import optimize_rot_trans, downsample_vol, symmetrize_ht3, grid_3d, optimize_rot_trans_chunked"
   ]
  },
  {
   "cell_type": "code",
   "execution_count": 2,
   "id": "6f6ceaa9-2b21-49c3-baa7-4ce94096a192",
   "metadata": {},
   "outputs": [],
   "source": [
    "from cryodrgn import mrcfile as mrc\n",
    "vol1, _ = mrc.parse_mrc(\"../test_cases/cryosparc_P25_J411_008_volume_map.map\")\n",
    "vol2, _ = mrc.parse_mrc(\"../raw_maps_07072023/emd_27264.map\")\n"
   ]
  },
  {
   "cell_type": "code",
   "execution_count": 3,
   "id": "68220400-7588-4dd2-82b7-0bf623e7fb69",
   "metadata": {},
   "outputs": [
    {
     "name": "stdout",
     "output_type": "stream",
     "text": [
      "torch.Size([128, 128, 128])\n",
      "torch.Size([128, 128, 128])\n"
     ]
    }
   ],
   "source": [
    "import torch\n",
    "\n",
    "vol1 = downsample_vol(torch.tensor(vol1), 0.64, target_res=5).cuda()\n",
    "vol2 = downsample_vol(torch.tensor(vol2), 1.245, target_res=5).cuda()\n",
    "print(vol1.shape)\n",
    "print(vol2.shape)"
   ]
  },
  {
   "cell_type": "code",
   "execution_count": 4,
   "id": "ec24e7b7-c9ee-4193-92fa-52bade539c8d",
   "metadata": {},
   "outputs": [],
   "source": [
    "from cryodrgn import lie_tools, so3_grid, utils\n",
    "import numpy as np\n",
    "\n",
    "quats1 = so3_grid.s2_grid_SO3(0).astype(np.float32)\n",
    "rots1 = lie_tools.quaternions_to_SO3(torch.from_numpy(quats1)).cuda()\n",
    "\n",
    "theta, phi = so3_grid.grid_s2(1)\n",
    "psi = so3_grid.grid_s1(1)\n",
    "quats2 = so3_grid.hopf_to_quat(\n",
    "    np.repeat(theta, len(psi)),\n",
    "    np.repeat(phi, len(psi)),\n",
    "    np.tile(psi, len(theta)),\n",
    ") \n",
    "\n",
    "\n",
    "allangs = torch.tensor(np.array([np.repeat(theta, len(psi)), np.repeat(phi, len(psi)), np.tile(psi, len(theta)),]))\n",
    "rots2 = lie_tools.quaternions_to_SO3(torch.from_numpy(quats2)).cuda()\n",
    "trans = None #torch.tensor(grid_3d(0,0,1)).cuda()"
   ]
  },
  {
   "cell_type": "code",
   "execution_count": 5,
   "id": "c0b91a12-0e52-4e68-9887-65a02c3066f4",
   "metadata": {},
   "outputs": [],
   "source": [
    "from cryodrgn.fft import htn_center, iht2_center\n",
    "\n",
    "vol1_ht = symmetrize_ht3(htn_center(vol1 - vol1.mean()).unsqueeze(0))\n",
    "vol2_ht = symmetrize_ht3(htn_center(vol2 - vol2.mean()).unsqueeze(0))\n",
    "\n",
    "with torch.no_grad():\n",
    "    corr, quer, tar = optimize_rot_trans(vol2_ht, vol1_ht, rots1, rots2, trans)\n",
    "    #corr = optimize_rot_trans_chunked((vol2 - vol2.mean()).unsqueeze(0), (vol1 - vol1.mean()).unsqueeze(0), rots1, rots2, trans, chunk_size=1)\n",
    "    #corr, quer, tar = optimize_rot_trans(vol1.unsqueeze(0), vol2.unsqueeze(0), rots1, rots2, trans)\n",
    "\n",
    "q = quer.cpu().squeeze()\n",
    "t = tar.cpu().squeeze()"
   ]
  },
  {
   "cell_type": "code",
   "execution_count": 6,
   "id": "bdb32551-182a-4c42-80ae-58cef57bf3f8",
   "metadata": {},
   "outputs": [
    {
     "data": {
      "image/png": "[encoded data removed]",
      "text/plain": [
       "<Figure size 1200x200 with 24 Axes>"
      ]
     },
     "metadata": {},
     "output_type": "display_data"
    }
   ],
   "source": [
    "%matplotlib inline\n",
    "\n",
    "import matplotlib.pyplot as plt\n",
    "import numpy as np\n",
    "\n",
    "def plot_projections(imgs, labels=None, max_imgs=1000, nrows=2):\n",
    "    if len(imgs) > max_imgs:\n",
    "        imgs = imgs[:max_imgs]\n",
    "\n",
    "    N = len(imgs)\n",
    "    ncols = N // nrows\n",
    "\n",
    "    fig, axes = plt.subplots(\n",
    "        nrows=nrows, ncols=ncols, figsize=(ncols, nrows)\n",
    "    )\n",
    "\n",
    "    if not isinstance(axes, np.ndarray):\n",
    "        axes = np.array([[axes]])\n",
    "    if labels is None:\n",
    "        labels = [None for _ in axes.ravel()]\n",
    "\n",
    "    for img, ax, lbl in zip(imgs, axes.ravel(), labels):\n",
    "        #ax.imshow(img, vmin=-15, vmax=15,cmap=\"Greys_r\")\n",
    "        ax.imshow(img,cmap=\"Greys_r\")\n",
    "        if lbl is not None:\n",
    "            ax.set_title(lbl)\n",
    "        ax.axis(\"off\")\n",
    "\n",
    "    plt.tight_layout()\n",
    "    return fig, axes\n",
    "\n",
    "\n",
    "plot_projections(iht2_center(torch.cat([q[...,:-1,:-1], t[...,:-1,:-1]])), nrows=2)\n",
    "#plot_projections(torch.cat([q, t]))\n",
    "\n",
    "plt.show()"
   ]
  },
  {
   "cell_type": "code",
   "execution_count": 7,
   "id": "9dc70609-735f-40a5-885c-a21fd9451d1e",
   "metadata": {},
   "outputs": [
    {
     "data": {
      "text/plain": [
       "tensor([0.6903, 0.7822, 0.7052, 0.6566, 0.7268, 0.7329, 0.7268, 0.7329, 0.7052,\n",
       "        0.6566, 0.6903, 0.7822])"
      ]
     },
     "execution_count": 7,
     "metadata": {},
     "output_type": "execute_result"
    }
   ],
   "source": [
    "((t - t.mean(dim=(-1,-2), keepdim=True)) * (q - q.mean(dim=(-1,-2), keepdim=True)) /  t.std(dim=(-1,-2), keepdim=True) / q.std(dim=(-1,-2), keepdim=True)).mean(dim=(-1,-2)) "
   ]
  },
  {
   "cell_type": "code",
   "execution_count": 8,
   "id": "f702de14-0807-4cc2-83e9-4dbaca043232",
   "metadata": {},
   "outputs": [
    {
     "name": "stdout",
     "output_type": "stream",
     "text": [
      "tensor(0.7172, device='cuda:0')\n",
      "tensor(0.5269, device='cuda:0')\n"
     ]
    }
   ],
   "source": [
    "import math\n",
    "print(corr.max())\n",
    "print(corr.min())"
   ]
  },
  {
   "cell_type": "code",
   "execution_count": 9,
   "id": "c37d4d2d-9a95-4974-82b6-b1370d869085",
   "metadata": {},
   "outputs": [],
   "source": [
    "br_corr, bestrots = corr.max(dim=-1)\n",
    "_, besttrans = torch.max(br_corr, dim=-1)\n",
    "bestrot = bestrots.gather(-1, besttrans.unsqueeze(-1))"
   ]
  },
  {
   "cell_type": "code",
   "execution_count": 10,
   "id": "fad2f014-88f9-40db-9b2f-234a817ae36c",
   "metadata": {},
   "outputs": [
    {
     "name": "stdout",
     "output_type": "stream",
     "text": [
      "[17.13389053 16.41526858 47.48955721]\n"
     ]
    }
   ],
   "source": [
    "import numpy as np\n",
    "from scipy.spatial.transform import Rotation as R\n",
    "\n",
    "# Create a Rotation object from the matrix\n",
    "rotation = R.from_matrix(rots2[bestrot.squeeze()].cpu().numpy())\n",
    "\n",
    "# Get Euler angles in 'xyz' order (roll, pitch, yaw) in degrees\n",
    "euler_angles = rotation.as_euler('xyz', degrees=True)\n",
    "print(euler_angles)"
   ]
  },
  {
   "cell_type": "code",
   "execution_count": 11,
   "id": "278e4d4c-8995-4aff-b52a-5577d5af60d3",
   "metadata": {},
   "outputs": [
    {
     "name": "stderr",
     "output_type": "stream",
     "text": [
      "/tmp/ipykernel_914755/3288447827.py:1: FutureWarning: You are using `torch.load` with `weights_only=False` (the current default value), which uses the default pickle module implicitly. It is possible to construct malicious pickle data which will execute arbitrary code during unpickling (See https://github.com/pytorch/pytorch/blob/main/SECURITY.md#untrusted-models for more details). In a future release, the default value for `weights_only` will be flipped to `True`. This limits the functions that could be executed during unpickling. Arbitrary objects will no longer be allowed to be loaded via this mode unless they are explicitly allowlisted by the user via `torch.serialization.add_safe_globals`. We recommend you start setting `weights_only=True` for any use case where you don't have full control of the loaded file. Please open an issue on GitHub for any issues related to this experimental feature.\n",
      "  voldata = torch.load(\"../siren_vols.pt\")\n"
     ]
    }
   ],
   "source": [
    "voldata = torch.load(\"../siren_vols.pt\")"
   ]
  },
  {
   "cell_type": "code",
   "execution_count": 12,
   "id": "dc4aa91b-a623-417c-9515-2828644516a8",
   "metadata": {},
   "outputs": [
    {
     "name": "stderr",
     "output_type": "stream",
     "text": [
      "/tmp/ipykernel_914755/2540141791.py:5: FutureWarning: You are using `torch.load` with `weights_only=False` (the current default value), which uses the default pickle module implicitly. It is possible to construct malicious pickle data which will execute arbitrary code during unpickling (See https://github.com/pytorch/pytorch/blob/main/SECURITY.md#untrusted-models for more details). In a future release, the default value for `weights_only` will be flipped to `True`. This limits the functions that could be executed during unpickling. Arbitrary objects will no longer be allowed to be loaded via this mode unless they are explicitly allowlisted by the user via `torch.serialization.add_safe_globals`. We recommend you start setting `weights_only=True` for any use case where you don't have full control of the loaded file. Please open an issue on GitHub for any issues related to this experimental feature.\n",
      "  res = torch.load(\"../search_results/cryosparc_P25_J411_008_volume_map_search_res_rot1_trans1_extent0_hartley.pt\")\n"
     ]
    }
   ],
   "source": [
    "# analyze data from search\n",
    "import torch\n",
    "\n",
    "#res = torch.load(\"../search_results/cryosparc_P25_J411_008_volume_map_search_res_rot1_trans1_extent0_hartley_postfilternum64_transpf0_numtranspf1_rotpf2.pt\")\n",
    "res = torch.load(\"../search_results/cryosparc_P25_J411_008_volume_map_search_res_rot1_trans1_extent0_hartley.pt\")\n",
    "#res = torch.load(\"../search_results/cryosparc_P25_J411_008_volume_map_search_res_rot1_trans1_extent0_hartley_old.pt\")"
   ]
  },
  {
   "cell_type": "code",
   "execution_count": 13,
   "id": "0c6350ec-dfc4-40a3-a618-e260689f3f1f",
   "metadata": {},
   "outputs": [],
   "source": [
    "maxcorr = res['corr'].amax(dim=(-1,-2))\n",
    "#if 'unique_indices' in res:\n",
    "#    maxcorr[:, res['unique_indices']] = res['corr_pf'].amax(dim=(-1,-2))\n",
    "bestcors, idxs = maxcorr.sort(descending=True)\n",
    "bestids = voldata['ids'][idxs][0]"
   ]
  },
  {
   "cell_type": "code",
   "execution_count": 14,
   "id": "6f3c5da4-b5fb-46eb-8b12-21f787e8c04b",
   "metadata": {},
   "outputs": [
    {
     "ename": "KeyError",
     "evalue": "'corr_pf'",
     "output_type": "error",
     "traceback": [
      "\u001b[0;31m---------------------------------------------------------------------------\u001b[0m",
      "\u001b[0;31mKeyError\u001b[0m                                  Traceback (most recent call last)",
      "Cell \u001b[0;32mIn[14], line 1\u001b[0m\n\u001b[0;32m----> 1\u001b[0m \u001b[43mres\u001b[49m\u001b[43m[\u001b[49m\u001b[38;5;124;43m'\u001b[39;49m\u001b[38;5;124;43mcorr_pf\u001b[39;49m\u001b[38;5;124;43m'\u001b[39;49m\u001b[43m]\u001b[49m\u001b[38;5;241m.\u001b[39mshape\n",
      "\u001b[0;31mKeyError\u001b[0m: 'corr_pf'"
     ]
    }
   ],
   "source": [
    "res['corr_pf'].shape"
   ]
  },
  {
   "cell_type": "code",
   "execution_count": 15,
   "id": "3f16e9b2-5537-4a74-9590-5f3783d47350",
   "metadata": {},
   "outputs": [
    {
     "data": {
      "text/plain": [
       "tensor([28087, 26563, 27871, 27265, 28108, 17088, 26097, 28545, 27264, 25618])"
      ]
     },
     "execution_count": 15,
     "metadata": {},
     "output_type": "execute_result"
    }
   ],
   "source": [
    "bestids[:10]"
   ]
  },
  {
   "cell_type": "code",
   "execution_count": 16,
   "id": "da58de30-e533-4584-ac12-c85a3b20148c",
   "metadata": {},
   "outputs": [
    {
     "data": {
      "text/plain": [
       "tensor([[0.7843, 0.7583, 0.7525, 0.7409, 0.7403, 0.7401, 0.7282, 0.7231, 0.7192,\n",
       "         0.7176]])"
      ]
     },
     "execution_count": 16,
     "metadata": {},
     "output_type": "execute_result"
    }
   ],
   "source": [
    "bestcors[:,:10]"
   ]
  },
  {
   "cell_type": "code",
   "execution_count": 17,
   "id": "fd0437d9-d28d-47ac-9014-346010656869",
   "metadata": {},
   "outputs": [],
   "source": [
    "corr = res['corr']\n",
    "br_corr, bestrots = corr.max(dim=-1)\n",
    "_, besttrans = torch.max(br_corr, dim=-1)\n",
    "bestrot = bestrots.gather(-1, besttrans.unsqueeze(-1))\n",
    "bestrots_sorted = bestrot[torch.arange(idxs.shape[0]).unsqueeze(1),idxs].squeeze()"
   ]
  },
  {
   "cell_type": "code",
   "execution_count": 18,
   "id": "ce4684c1-c7d4-4701-8fdb-62b93f7892c1",
   "metadata": {},
   "outputs": [],
   "source": [
    "# Create a Rotation object from the matrix\n",
    "rotations = R.from_matrix(rots2[bestrots_sorted].cpu().numpy())\n",
    "\n",
    "# Get Euler angles in 'xyz' order (roll, pitch, yaw) in degrees\n",
    "euler_angles_best = rotations.as_euler('xyz', degrees=True)"
   ]
  },
  {
   "cell_type": "code",
   "execution_count": 19,
   "id": "b4ef9273-10a8-4c11-a183-f2c363a83098",
   "metadata": {},
   "outputs": [
    {
     "data": {
      "text/plain": [
       "array([[ 4.59279746e+01,  1.65729182e+01, -1.72937086e+02],\n",
       "       [ 4.59279804e+01, -1.65729216e+01,  5.29370857e+01],\n",
       "       [-1.71338884e+01,  1.64152670e+01, -1.74895527e+01],\n",
       "       [ 4.59279746e+01,  1.65729182e+01, -1.72937086e+02],\n",
       "       [ 7.05287753e+01, -3.91741668e-08,  1.49999999e+01],\n",
       "       [ 1.79999997e+02, -7.05287791e+01,  1.05000005e+02],\n",
       "       [-1.71338872e+01, -1.64152683e+01, -1.25104471e+01],\n",
       "       [-1.71338872e+01, -1.64152683e+01, -1.25104471e+01],\n",
       "       [ 1.71338905e+01,  1.64152686e+01,  4.74895572e+01],\n",
       "       [-4.59279746e+01, -1.65729182e+01,  7.06291415e+00]])"
      ]
     },
     "execution_count": 19,
     "metadata": {},
     "output_type": "execute_result"
    }
   ],
   "source": [
    "euler_angles_best[:10]"
   ]
  },
  {
   "cell_type": "code",
   "execution_count": 20,
   "id": "a2e25522-39cc-4e45-94df-58f68acc3eb0",
   "metadata": {},
   "outputs": [
    {
     "name": "stderr",
     "output_type": "stream",
     "text": [
      "/tmp/ipykernel_914755/3396912507.py:12: FutureWarning: You are using `torch.load` with `weights_only=False` (the current default value), which uses the default pickle module implicitly. It is possible to construct malicious pickle data which will execute arbitrary code during unpickling (See https://github.com/pytorch/pytorch/blob/main/SECURITY.md#untrusted-models for more details). In a future release, the default value for `weights_only` will be flipped to `True`. This limits the functions that could be executed during unpickling. Arbitrary objects will no longer be allowed to be loaded via this mode unless they are explicitly allowlisted by the user via `torch.serialization.add_safe_globals`. We recommend you start setting `weights_only=True` for any use case where you don't have full control of the loaded file. Please open an issue on GitHub for any issues related to this experimental feature.\n",
      "  res = torch.load('/home/gridsan/jroney/search_results2/' + e + suffix, map_location='cpu')\n",
      "/tmp/ipykernel_914755/3396912507.py:36: FutureWarning: You are using `torch.load` with `weights_only=False` (the current default value), which uses the default pickle module implicitly. It is possible to construct malicious pickle data which will execute arbitrary code during unpickling (See https://github.com/pytorch/pytorch/blob/main/SECURITY.md#untrusted-models for more details). In a future release, the default value for `weights_only` will be flipped to `True`. This limits the functions that could be executed during unpickling. Arbitrary objects will no longer be allowed to be loaded via this mode unless they are explicitly allowlisted by the user via `torch.serialization.add_safe_globals`. We recommend you start setting `weights_only=True` for any use case where you don't have full control of the loaded file. Please open an issue on GitHub for any issues related to this experimental feature.\n",
      "  dat = torch.load(\"../train_projections.pt\")\n",
      "/tmp/ipykernel_914755/3396912507.py:37: FutureWarning: You are using `torch.load` with `weights_only=False` (the current default value), which uses the default pickle module implicitly. It is possible to construct malicious pickle data which will execute arbitrary code during unpickling (See https://github.com/pytorch/pytorch/blob/main/SECURITY.md#untrusted-models for more details). In a future release, the default value for `weights_only` will be flipped to `True`. This limits the functions that could be executed during unpickling. Arbitrary objects will no longer be allowed to be loaded via this mode unless they are explicitly allowlisted by the user via `torch.serialization.add_safe_globals`. We recommend you start setting `weights_only=True` for any use case where you don't have full control of the loaded file. Please open an issue on GitHub for any issues related to this experimental feature.\n",
      "  dat_val = torch.load(\"../val_projections.pt\")\n"
     ]
    }
   ],
   "source": [
    "# analyze the val2025 3d runs\n",
    "import pickle \n",
    "import os\n",
    "from analyze_search_outputs import incorporate_postfiltered, score_hits, select_best_maps\n",
    "\n",
    "emds = [x[:-1].lower().replace('-','_') for x in open(\"../val2025_maps.txt\",'r').readlines()]\n",
    "results = {}\n",
    "suffix = \"_search_res_rot1_trans1_extent0_hartley_3d_postfilternum64_transpf0_numtranspf1_rotpf2.pt\"\n",
    "\n",
    "for i,e in enumerate(emds):\n",
    "    if os.path.exists('/home/gridsan/jroney/search_results2/' + e + suffix):\n",
    "        res = torch.load('/home/gridsan/jroney/search_results2/' + e + suffix, map_location='cpu')\n",
    "\n",
    "        for k,v in res.items():\n",
    "            if k in results:\n",
    "                results[k].append(v)\n",
    "            else:\n",
    "                results[k]  = [v]\n",
    "\n",
    "results = {k: torch.stack(v) if (torch.is_tensor(v[0]) and k not in  (\"unique_indices\", \"corr_pf\")) else v for k,v in results.items()}\n",
    "\n",
    "search_terms = [[\"doublet\", \"microtubule\"],\n",
    "                [\"complex i\"],\n",
    "                [\"apoferritin\"],\n",
    "                [\"spike\", \"sars-cov-2\"],\n",
    "                [\"nucleosome\"],\n",
    "                [\"fof1\", \"atp synthase\"],\n",
    "                [\"70s\"], \n",
    "                [\"cas9\", \"spcas9\"],\n",
    "                [\"actin\"],\n",
    "                [\"hiv;capsid\", \"hiv;hexamer\"],\n",
    "                [\"cdc37\", \"hsp90\"]]\n",
    "\n",
    "all_topics = sorted(pickle.load(open(\"../emdb_topics.pkl\", 'rb')), key=lambda x:x[0])\n",
    "\n",
    "dat = torch.load(\"../train_projections.pt\")\n",
    "dat_val = torch.load(\"../val_projections.pt\")\n",
    "ids_all = torch.cat([dat['ids'], dat_val['ids']])\n",
    "\n",
    "topics_dict = {emd.item() : x for emd,x in zip(ids_all, all_topics)}\n"
   ]
  },
  {
   "cell_type": "code",
   "execution_count": 23,
   "id": "5d3d06d3-9e98-4d94-8789-2c76ff004aa9",
   "metadata": {},
   "outputs": [],
   "source": [
    "import matplotlib.pyplot as plt\n",
    "\n",
    "maxk = 64\n",
    "corr_all = results['corr'].amax(dim=(1,-1,-2))\n",
    "hit_indices = corr_all.topk(maxk, dim=-1)[1]\n",
    "hit_ids = voldata['ids'][hit_indices]\n",
    "\n",
    "hit_acc = score_hits(topics_dict, hit_ids, search_terms)\n",
    "cum_acc = (hit_acc.cumsum(dim=-1) > 0).to(torch.float)\n",
    "\n",
    "def derangement(n):\n",
    "    perm = torch.randperm(n)\n",
    "    for i in range(n):\n",
    "        if perm[i] == i:  # If an element is in its original place, swap it\n",
    "            perm[i], perm[(i+1) % n] = perm[(i+1) % n], perm[i]\n",
    "    return perm\n",
    "\n",
    "hit_acc_wrong = score_hits(topics_dict, hit_ids[derangement(11)], search_terms)\n",
    "cum_acc_wrong = (hit_acc_wrong.cumsum(dim=-1) > 0).to(torch.float)"
   ]
  },
  {
   "cell_type": "code",
   "execution_count": 30,
   "id": "fe2ceba6-4608-4bed-a52a-72516e6c8990",
   "metadata": {},
   "outputs": [
    {
     "data": {
      "image/png": "[encoded data removed]",
      "text/plain": [
       "<Figure size 640x480 with 1 Axes>"
      ]
     },
     "metadata": {},
     "output_type": "display_data"
    },
    {
     "name": "stdout",
     "output_type": "stream",
     "text": [
      "tensor(49.4545)\n"
     ]
    }
   ],
   "source": [
    "plt.plot(torch.arange(cum_acc.shape[-1]) + 1, cum_acc.mean(dim=0), color=\"orange\", label=\"3D best match\")\n",
    "plt.plot(torch.arange(cum_acc_wrong.shape[-1]) + 1, cum_acc_wrong.mean(dim=0), color=\"grey\", label=\"3D best match shuffled\")\n",
    "\n",
    "plt.xlabel(\"k\")\n",
    "plt.ylabel(\"Probability target in top k hits\")\n",
    "plt.title(\"Top-k accuracy for 3D Search\")\n",
    "plt.legend(bbox_to_anchor=(1, 1))\n",
    "plt.ylim(0,1.1)\n",
    "plt.show()\n",
    "\n",
    "print(cum_acc.mean(dim=0).sum(dim=-1))\n"
   ]
  },
  {
   "cell_type": "code",
   "execution_count": null,
   "id": "a566c6db-4816-474b-ad7c-01ebdb93e4bf",
   "metadata": {},
   "outputs": [],
   "source": [
    "hit_indices.shape"
   ]
  }
 ],
 "metadata": {
  "kernelspec": {
   "display_name": "Python [conda env:base] *",
   "language": "python",
   "name": "conda-base-py"
  },
  "language_info": {
   "codemirror_mode": {
    "name": "ipython",
    "version": 3
   },
   "file_extension": ".py",
   "mimetype": "text/x-python",
   "name": "python",
   "nbconvert_exporter": "python",
   "pygments_lexer": "ipython3",
   "version": "3.10.14"
  }
 },
 "nbformat": 4,
 "nbformat_minor": 5
}
