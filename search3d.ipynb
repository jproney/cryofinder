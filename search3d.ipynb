{
 "cells": [
  {
   "cell_type": "code",
   "execution_count": 52,
   "id": "83912df8-29d9-4191-a023-4e1187991b12",
   "metadata": {},
   "outputs": [],
   "source": [
    "from map_search import optimize_rot_trans, downsample_vol, symmetrize_ht3, grid_3d"
   ]
  },
  {
   "cell_type": "code",
   "execution_count": 53,
   "id": "6f6ceaa9-2b21-49c3-baa7-4ce94096a192",
   "metadata": {},
   "outputs": [],
   "source": [
    "from cryodrgn import mrcfile as mrc\n",
    "vol1, _ = mrc.parse_mrc(\"../test_cases/cryosparc_P25_J411_008_volume_map.map\")\n",
    "vol2, _ = mrc.parse_mrc(\"../raw_maps_07072023/emd_27264.map\")\n"
   ]
  },
  {
   "cell_type": "code",
   "execution_count": 54,
   "id": "68220400-7588-4dd2-82b7-0bf623e7fb69",
   "metadata": {},
   "outputs": [
    {
     "name": "stdout",
     "output_type": "stream",
     "text": [
      "torch.Size([128, 128, 128])\n",
      "torch.Size([128, 128, 128])\n"
     ]
    }
   ],
   "source": [
    "import torch\n",
    "\n",
    "vol1 = downsample_vol(torch.tensor(vol1), 0.64, target_res=5).cuda()\n",
    "vol2 = downsample_vol(torch.tensor(vol2), 1.245, target_res=5).cuda()\n",
    "print(vol1.shape)\n",
    "print(vol2.shape)"
   ]
  },
  {
   "cell_type": "code",
   "execution_count": 55,
   "id": "ec24e7b7-c9ee-4193-92fa-52bade539c8d",
   "metadata": {},
   "outputs": [],
   "source": [
    "from cryodrgn import lie_tools, so3_grid, utils\n",
    "import numpy as np\n",
    "\n",
    "quats1 = so3_grid.s2_grid_SO3(0).astype(np.float32)\n",
    "rots1 = lie_tools.quaternions_to_SO3(torch.from_numpy(quats1)).cuda()\n",
    "\n",
    "theta, phi = so3_grid.grid_s2(2)\n",
    "psi = so3_grid.grid_s1(2)\n",
    "quats2 = so3_grid.hopf_to_quat(\n",
    "    np.repeat(theta, len(psi)),\n",
    "    np.repeat(phi, len(psi)),\n",
    "    np.tile(psi, len(theta)),\n",
    ") \n",
    "\n",
    "\n",
    "allangs = torch.tensor(np.array([np.repeat(theta, len(psi)), np.repeat(phi, len(psi)), np.tile(psi, len(theta)),]))\n",
    "rots2 = lie_tools.quaternions_to_SO3(torch.from_numpy(quats2)).cuda()\n",
    "trans = None #torch.tensor(grid_3d(0,0,1)).cuda()"
   ]
  },
  {
   "cell_type": "code",
   "execution_count": 56,
   "id": "c0b91a12-0e52-4e68-9887-65a02c3066f4",
   "metadata": {},
   "outputs": [],
   "source": [
    "from cryodrgn.fft import htn_center, iht2_center\n",
    "\n",
    "vol1_ht = symmetrize_ht3(htn_center(vol1 - vol1.mean()).unsqueeze(0))\n",
    "vol2_ht = symmetrize_ht3(htn_center(vol2 - vol2.mean()).unsqueeze(0))\n",
    "\n",
    "vol1_ht = htn_center(vol1 - vol1.mean()).unsqueeze(0)\n",
    "vol2_ht = htn_center(vol2 - vol2.mean()).unsqueeze(0)\n",
    "with torch.no_grad():\n",
    "    corr, quer, tar = optimize_rot_trans(vol1_ht, vol2_ht, rots1, rots2, trans)\n",
    "    #corr, quer, tar = optimize_rot_trans(vol1.unsqueeze(0), vol2.unsqueeze(0), rots1, rots2, trans)\n",
    "\n",
    "q = quer.cpu().squeeze()\n",
    "t = tar.cpu().squeeze()"
   ]
  },
  {
   "cell_type": "code",
   "execution_count": 57,
   "id": "bdb32551-182a-4c42-80ae-58cef57bf3f8",
   "metadata": {},
   "outputs": [
    {
     "data": {
      "image/png": "[encoded data removed]",
      "text/plain": [
       "<Figure size 1200x200 with 24 Axes>"
      ]
     },
     "metadata": {},
     "output_type": "display_data"
    }
   ],
   "source": [
    "%matplotlib inline\n",
    "\n",
    "import matplotlib.pyplot as plt\n",
    "import numpy as np\n",
    "\n",
    "def plot_projections(imgs, labels=None, max_imgs=1000, nrows=2):\n",
    "    if len(imgs) > max_imgs:\n",
    "        imgs = imgs[:max_imgs]\n",
    "\n",
    "    N = len(imgs)\n",
    "    ncols = N // nrows\n",
    "\n",
    "    fig, axes = plt.subplots(\n",
    "        nrows=nrows, ncols=ncols, figsize=(ncols, nrows)\n",
    "    )\n",
    "\n",
    "    if not isinstance(axes, np.ndarray):\n",
    "        axes = np.array([[axes]])\n",
    "    if labels is None:\n",
    "        labels = [None for _ in axes.ravel()]\n",
    "\n",
    "    for img, ax, lbl in zip(imgs, axes.ravel(), labels):\n",
    "        #ax.imshow(img, vmin=-15, vmax=15,cmap=\"Greys_r\")\n",
    "        ax.imshow(img,cmap=\"Greys_r\")\n",
    "        if lbl is not None:\n",
    "            ax.set_title(lbl)\n",
    "        ax.axis(\"off\")\n",
    "\n",
    "    plt.tight_layout()\n",
    "    return fig, axes\n",
    "\n",
    "\n",
    "plot_projections(iht2_center(torch.cat([q[...,:-1,:-1], t[...,:-1,:-1]])), nrows=2)\n",
    "#plot_projections(torch.cat([q, t]))\n",
    "\n",
    "plt.show()"
   ]
  },
  {
   "cell_type": "code",
   "execution_count": 58,
   "id": "9dc70609-735f-40a5-885c-a21fd9451d1e",
   "metadata": {},
   "outputs": [
    {
     "data": {
      "text/plain": [
       "tensor([0.6842, 0.7120, 0.7035, 0.7265, 0.7936, 0.7759, 0.7936, 0.7759, 0.7035,\n",
       "        0.7265, 0.6842, 0.7120])"
      ]
     },
     "execution_count": 58,
     "metadata": {},
     "output_type": "execute_result"
    }
   ],
   "source": [
    "((t - t.mean(dim=(-1,-2), keepdim=True)) * (q - q.mean(dim=(-1,-2), keepdim=True)) /  t.std(dim=(-1,-2), keepdim=True) / q.std(dim=(-1,-2), keepdim=True)).mean(dim=(-1,-2)) "
   ]
  },
  {
   "cell_type": "code",
   "execution_count": 59,
   "id": "f702de14-0807-4cc2-83e9-4dbaca043232",
   "metadata": {},
   "outputs": [
    {
     "name": "stdout",
     "output_type": "stream",
     "text": [
      "tensor(0.7352, device='cuda:0')\n",
      "tensor(0.5643, device='cuda:0')\n"
     ]
    }
   ],
   "source": [
    "import math\n",
    "print(corr.max())\n",
    "print(corr.min())"
   ]
  },
  {
   "cell_type": "code",
   "execution_count": 60,
   "id": "c37d4d2d-9a95-4974-82b6-b1370d869085",
   "metadata": {},
   "outputs": [],
   "source": [
    "br_corr, bestrots = corr.max(dim=-1)\n",
    "_, besttrans = torch.max(br_corr, dim=-1)\n",
    "bestrot = bestrots.gather(-1, besttrans.unsqueeze(-1))"
   ]
  },
  {
   "cell_type": "code",
   "execution_count": 61,
   "id": "fad2f014-88f9-40db-9b2f-234a817ae36c",
   "metadata": {},
   "outputs": [
    {
     "name": "stdout",
     "output_type": "stream",
     "text": [
      "[  8.34232944  -8.25528114 -38.10308944]\n"
     ]
    }
   ],
   "source": [
    "import numpy as np\n",
    "from scipy.spatial.transform import Rotation as R\n",
    "\n",
    "# Create a Rotation object from the matrix\n",
    "rotation = R.from_matrix(rots2[bestrot.squeeze()].cpu().numpy())\n",
    "\n",
    "# Get Euler angles in 'xyz' order (roll, pitch, yaw) in degrees\n",
    "euler_angles = rotation.as_euler('xyz', degrees=True)\n",
    "print(euler_angles)"
   ]
  },
  {
   "cell_type": "code",
   "execution_count": 62,
   "id": "dc4aa91b-a623-417c-9515-2828644516a8",
   "metadata": {},
   "outputs": [
    {
     "data": {
      "text/plain": [
       "tensor([[[4239]]], device='cuda:0')"
      ]
     },
     "execution_count": 62,
     "metadata": {},
     "output_type": "execute_result"
    }
   ],
   "source": [
    "bestrot"
   ]
  },
  {
   "cell_type": "code",
   "execution_count": 63,
   "id": "ac1d5914-b892-4a89-aee7-8e1b782885e0",
   "metadata": {},
   "outputs": [
    {
     "data": {
      "text/plain": [
       "torch.Size([3, 4608])"
      ]
     },
     "execution_count": 63,
     "metadata": {},
     "output_type": "execute_result"
    }
   ],
   "source": [
    "allangs.shape"
   ]
  },
  {
   "cell_type": "code",
   "execution_count": 64,
   "id": "18db9ff9-a133-4b11-926a-f1e7488ff1ea",
   "metadata": {},
   "outputs": [
    {
     "data": {
      "text/plain": [
       "tensor(0, device='cuda:0')"
      ]
     },
     "execution_count": 64,
     "metadata": {},
     "output_type": "execute_result"
    }
   ],
   "source": [
    "corr.isnan().sum()"
   ]
  },
  {
   "cell_type": "code",
   "execution_count": null,
   "id": "de8a449a-7987-4578-8f4d-c59dff565e7d",
   "metadata": {},
   "outputs": [],
   "source": []
  }
 ],
 "metadata": {
  "kernelspec": {
   "display_name": "Python [conda env:base] *",
   "language": "python",
   "name": "conda-base-py"
  },
  "language_info": {
   "codemirror_mode": {
    "name": "ipython",
    "version": 3
   },
   "file_extension": ".py",
   "mimetype": "text/x-python",
   "name": "python",
   "nbconvert_exporter": "python",
   "pygments_lexer": "ipython3",
   "version": "3.10.14"
  }
 },
 "nbformat": 4,
 "nbformat_minor": 5
}
